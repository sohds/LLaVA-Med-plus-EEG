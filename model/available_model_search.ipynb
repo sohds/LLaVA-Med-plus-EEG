{
 "cells": [
  {
   "cell_type": "markdown",
   "id": "4ad5af8a-4b62-402a-8ae5-de5f6dc8c304",
   "metadata": {},
   "source": [
    "# Model\n",
    "1. VisualBERT (not pre-trained about Medical Domain)\n",
    "2. DistilBERT (not pre-trained about Medical Domain)\n",
    "* * *\n",
    "## VisualBERT\n",
    "* Memory\n",
    "    * load(parameters) = 425.15MB (same torchsummary)\n",
    "    * forward/backward pass size = can't calculate\n",
    "    * what is problem with load LLaMA\n",
    "## DistilBERT\n",
    "* "
   ]
  },
  {
   "cell_type": "code",
   "execution_count": 2,
   "id": "d7bfee6b-88c8-4491-9767-9db78ca9d0f9",
   "metadata": {
    "execution": {
     "iopub.execute_input": "2024-03-18T16:14:21.332653Z",
     "iopub.status.busy": "2024-03-18T16:14:21.331657Z",
     "iopub.status.idle": "2024-03-18T16:14:24.692352Z",
     "shell.execute_reply": "2024-03-18T16:14:24.690358Z",
     "shell.execute_reply.started": "2024-03-18T16:14:21.332653Z"
    },
    "scrolled": true
   },
   "outputs": [],
   "source": [
    "import torch\n",
    "import numpy as np\n",
    "from transformers import BertTokenizer, VisualBertForQuestionAnswering\n",
    "\n",
    "# model = VisualBertModel.from_pretrained(\"uclanlp/visualbert-vqa\")\n",
    "# tokenizer = BertTokenizer.from_pretrained(\"google-bert/bert-base-uncased\")"
   ]
  },
  {
   "cell_type": "code",
   "execution_count": 3,
   "id": "4583f0bf-2b2d-4321-aa39-e4f3bf4f40d4",
   "metadata": {
    "execution": {
     "iopub.execute_input": "2024-03-18T16:14:24.697338Z",
     "iopub.status.busy": "2024-03-18T16:14:24.695344Z",
     "iopub.status.idle": "2024-03-18T16:14:24.708310Z",
     "shell.execute_reply": "2024-03-18T16:14:24.706314Z",
     "shell.execute_reply.started": "2024-03-18T16:14:24.697338Z"
    }
   },
   "outputs": [],
   "source": [
    "# inputs = tokenizer(\"The capital of France is Paris.\", return_tensors=\"pt\")\n",
    "# for key, value in inputs.items():\n",
    "    # print(key, value)"
   ]
  },
  {
   "cell_type": "code",
   "execution_count": 4,
   "id": "22d1c8e4-0d00-4e6e-9ce5-85e0df4170e8",
   "metadata": {
    "execution": {
     "iopub.execute_input": "2024-03-18T16:14:24.711302Z",
     "iopub.status.busy": "2024-03-18T16:14:24.710342Z",
     "iopub.status.idle": "2024-03-18T16:14:24.738229Z",
     "shell.execute_reply": "2024-03-18T16:14:24.737232Z",
     "shell.execute_reply.started": "2024-03-18T16:14:24.711302Z"
    }
   },
   "outputs": [],
   "source": [
    "def calculate_memory_size(model):\n",
    "    '''\n",
    "    param.size() = parameter(Tensor)의 사이즈, e.g. torch.Size([30522, 768])\n",
    "        np.prod(param.size()) == param.nelement()와 같다.\n",
    "    param.element_size() = Tensor의 element가 가지는 사이즈, 어떤 Type이며, 그 사이즈가 무엇인가\n",
    "    '''\n",
    "    total_params = 0\n",
    "    for param_name, param in model.named_parameters():\n",
    "        total_params += np.prod(param.size()) * param.element_size()\n",
    "    total_size = total_params / (1024 ** 2) # Convert to MB\n",
    "\n",
    "    return f'{total_size:.2f}MB'"
   ]
  },
  {
   "cell_type": "code",
   "execution_count": 20,
   "id": "6d6bec15-6e58-4e71-9298-d425b1212a66",
   "metadata": {
    "execution": {
     "iopub.execute_input": "2024-03-18T16:34:11.570764Z",
     "iopub.status.busy": "2024-03-18T16:34:11.569764Z",
     "iopub.status.idle": "2024-03-18T16:34:14.278521Z",
     "shell.execute_reply": "2024-03-18T16:34:14.277523Z",
     "shell.execute_reply.started": "2024-03-18T16:34:11.570764Z"
    }
   },
   "outputs": [
    {
     "name": "stderr",
     "output_type": "stream",
     "text": [
      "Some weights of the model checkpoint at distilbert-base-uncased were not used when initializing DistilBertForQuestionAnswering: ['vocab_transform.weight', 'vocab_transform.bias', 'vocab_layer_norm.weight', 'vocab_layer_norm.bias', 'vocab_projector.bias']\n",
      "- This IS expected if you are initializing DistilBertForQuestionAnswering from the checkpoint of a model trained on another task or with another architecture (e.g. initializing a BertForSequenceClassification model from a BertForPreTraining model).\n",
      "- This IS NOT expected if you are initializing DistilBertForQuestionAnswering from the checkpoint of a model that you expect to be exactly identical (initializing a BertForSequenceClassification model from a BertForSequenceClassification model).\n",
      "Some weights of DistilBertForQuestionAnswering were not initialized from the model checkpoint at distilbert-base-uncased and are newly initialized: ['qa_outputs.weight', 'qa_outputs.bias']\n",
      "You should probably TRAIN this model on a down-stream task to be able to use it for predictions and inference.\n"
     ]
    }
   ],
   "source": [
    "from transformers import AutoModelForQuestionAnswering, TrainingArguments, Trainer\n",
    "\n",
    "model_checkpoint = \"distilbert-base-uncased\"\n",
    "model = AutoModelForQuestionAnswering.from_pretrained(model_checkpoint)"
   ]
  },
  {
   "cell_type": "code",
   "execution_count": 21,
   "id": "297a2a04-7423-4655-9d25-a6ce1a8be522",
   "metadata": {
    "execution": {
     "iopub.execute_input": "2024-03-18T16:38:35.206836Z",
     "iopub.status.busy": "2024-03-18T16:38:35.205860Z",
     "iopub.status.idle": "2024-03-18T16:38:36.409627Z",
     "shell.execute_reply": "2024-03-18T16:38:36.408628Z",
     "shell.execute_reply.started": "2024-03-18T16:38:35.206836Z"
    }
   },
   "outputs": [
    {
     "data": {
      "application/vnd.jupyter.widget-view+json": {
       "model_id": "4d7a7e4e034a4c9e89e07548c2505cd7",
       "version_major": 2,
       "version_minor": 0
      },
      "text/plain": [
       "tokenizer.json:   0%|          | 0.00/466k [00:00<?, ?B/s]"
      ]
     },
     "metadata": {},
     "output_type": "display_data"
    },
    {
     "name": "stderr",
     "output_type": "stream",
     "text": [
      "C:\\Users\\user\\anaconda3\\lib\\site-packages\\huggingface_hub\\file_download.py:149: UserWarning: `huggingface_hub` cache-system uses symlinks by default to efficiently store duplicated files but your machine does not support them in C:\\Users\\user\\.cache\\huggingface\\hub\\models--distilbert-base-uncased. Caching files will still work but in a degraded version that might require more space on your disk. This warning can be disabled by setting the `HF_HUB_DISABLE_SYMLINKS_WARNING` environment variable. For more details, see https://huggingface.co/docs/huggingface_hub/how-to-cache#limitations.\n",
      "To support symlinks on Windows, you either need to activate Developer Mode or to run Python as an administrator. In order to see activate developer mode, see this article: https://docs.microsoft.com/en-us/windows/apps/get-started/enable-your-device-for-development\n",
      "  warnings.warn(message)\n"
     ]
    }
   ],
   "source": [
    "from transformers import AutoTokenizer\n",
    "\n",
    "tokenizer = AutoTokenizer.from_pretrained(model_checkpoint)"
   ]
  },
  {
   "cell_type": "code",
   "execution_count": 10,
   "id": "a4883a91-a97b-4414-8898-a43b8d27fee9",
   "metadata": {
    "execution": {
     "iopub.execute_input": "2024-03-18T16:17:08.234234Z",
     "iopub.status.busy": "2024-03-18T16:17:08.233708Z",
     "iopub.status.idle": "2024-03-18T16:17:08.247629Z",
     "shell.execute_reply": "2024-03-18T16:17:08.245633Z",
     "shell.execute_reply.started": "2024-03-18T16:17:08.234234Z"
    }
   },
   "outputs": [
    {
     "data": {
      "text/plain": [
       "'253.15MB'"
      ]
     },
     "execution_count": 10,
     "metadata": {},
     "output_type": "execute_result"
    }
   ],
   "source": [
    "calculate_memory_size(model)"
   ]
  },
  {
   "cell_type": "code",
   "execution_count": 22,
   "id": "97433574-d49d-41c9-a143-da87a35136fc",
   "metadata": {
    "execution": {
     "iopub.execute_input": "2024-03-18T16:39:57.079609Z",
     "iopub.status.busy": "2024-03-18T16:39:57.078611Z",
     "iopub.status.idle": "2024-03-18T16:39:57.100552Z",
     "shell.execute_reply": "2024-03-18T16:39:57.098747Z",
     "shell.execute_reply.started": "2024-03-18T16:39:57.079609Z"
    }
   },
   "outputs": [
    {
     "data": {
      "text/plain": [
       "{'input_ids': [101, 2064, 2017, 3437, 2505, 1029, 102], 'attention_mask': [1, 1, 1, 1, 1, 1, 1]}"
      ]
     },
     "execution_count": 22,
     "metadata": {},
     "output_type": "execute_result"
    }
   ],
   "source": [
    "text = 'Can you answer anything?'\n",
    "encoded_input = tokenizer(text)\n",
    "encoded_input"
   ]
  }
 ],
 "metadata": {
  "kernelspec": {
   "display_name": "Python 3 (ipykernel)",
   "language": "python",
   "name": "python3"
  },
  "language_info": {
   "codemirror_mode": {
    "name": "ipython",
    "version": 3
   },
   "file_extension": ".py",
   "mimetype": "text/x-python",
   "name": "python",
   "nbconvert_exporter": "python",
   "pygments_lexer": "ipython3",
   "version": "3.10.9"
  }
 },
 "nbformat": 4,
 "nbformat_minor": 5
}
