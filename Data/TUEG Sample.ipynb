{
 "cells": [
  {
   "cell_type": "markdown",
   "id": "99b67231-dc98-46bc-a4e6-8a21ace18007",
   "metadata": {},
   "source": [
    "# TUEG Dataset Sample 조사\n",
    "* 해당 데이터셋에는 Caption으로 사용할 수 있을만한 데이터가 없는 듯 하다."
   ]
  },
  {
   "cell_type": "code",
   "execution_count": 18,
   "id": "ec95b36f-f47f-466c-86ce-6f2537972cb3",
   "metadata": {
    "execution": {
     "iopub.execute_input": "2024-03-09T10:59:49.376300Z",
     "iopub.status.busy": "2024-03-09T10:59:49.376300Z",
     "iopub.status.idle": "2024-03-09T10:59:49.392254Z",
     "shell.execute_reply": "2024-03-09T10:59:49.390264Z",
     "shell.execute_reply.started": "2024-03-09T10:59:49.376300Z"
    }
   },
   "outputs": [],
   "source": [
    "import mne\n",
    "from pathlib import Path"
   ]
  },
  {
   "cell_type": "code",
   "execution_count": 24,
   "id": "43eb5123-280e-492a-9f48-5ae2a82adcfd",
   "metadata": {
    "execution": {
     "iopub.execute_input": "2024-03-09T11:01:29.663735Z",
     "iopub.status.busy": "2024-03-09T11:01:29.662738Z",
     "iopub.status.idle": "2024-03-09T11:01:29.677733Z",
     "shell.execute_reply": "2024-03-09T11:01:29.675978Z",
     "shell.execute_reply.started": "2024-03-09T11:01:29.663735Z"
    }
   },
   "outputs": [
    {
     "name": "stdout",
     "output_type": "stream",
     "text": [
      "F:/Doby/daiv_llm/isip.piconepress.com/projects/tuh_eeg/downloads/tuh_eeg/v2.0.1/edf/000/aaaaaaaa/s001_2015/01_tcp_ar/aaaaaaaa_s001_t000.edf\n"
     ]
    }
   ],
   "source": [
    "sample_path = 'F:/Doby/daiv_llm/isip.piconepress.com/projects/tuh_eeg/downloads/tuh_eeg/v2.0.1/edf/000/aaaaaaaa/s001_2015/01_tcp_ar/aaaaaaaa_s001_t000.edf'\n",
    "print(sample_path)"
   ]
  },
  {
   "cell_type": "code",
   "execution_count": 25,
   "id": "2c413754-262d-4954-b857-e60dc2cd0e9a",
   "metadata": {
    "execution": {
     "iopub.execute_input": "2024-03-09T11:01:32.303706Z",
     "iopub.status.busy": "2024-03-09T11:01:32.303706Z",
     "iopub.status.idle": "2024-03-09T11:01:33.631326Z",
     "shell.execute_reply": "2024-03-09T11:01:33.629695Z",
     "shell.execute_reply.started": "2024-03-09T11:01:32.303706Z"
    }
   },
   "outputs": [
    {
     "name": "stdout",
     "output_type": "stream",
     "text": [
      "Extracting EDF parameters from F:\\Doby\\daiv_llm\\isip.piconepress.com\\projects\\tuh_eeg\\downloads\\tuh_eeg\\v2.0.1\\edf\\000\\aaaaaaaa\\s001_2015\\01_tcp_ar\\aaaaaaaa_s001_t000.edf...\n",
      "EDF file detected\n",
      "Setting channel info structure...\n",
      "Creating raw.info structure...\n",
      "Reading 0 ... 323839  =      0.000 ...  1264.996 secs...\n"
     ]
    }
   ],
   "source": [
    "sample = mne.io.read_raw_edf(sample_path, preload=True)"
   ]
  },
  {
   "cell_type": "code",
   "execution_count": 36,
   "id": "60ee0f1c-68b4-404d-8cc1-6ab0e4099daf",
   "metadata": {
    "execution": {
     "iopub.execute_input": "2024-03-09T11:03:46.671398Z",
     "iopub.status.busy": "2024-03-09T11:03:46.670395Z",
     "iopub.status.idle": "2024-03-09T11:03:46.700312Z",
     "shell.execute_reply": "2024-03-09T11:03:46.697374Z",
     "shell.execute_reply.started": "2024-03-09T11:03:46.671398Z"
    }
   },
   "outputs": [
    {
     "data": {
      "text/plain": [
       "<Annotations | 0 segments>"
      ]
     },
     "execution_count": 36,
     "metadata": {},
     "output_type": "execute_result"
    }
   ],
   "source": [
    "sample.annotations"
   ]
  },
  {
   "cell_type": "code",
   "execution_count": 40,
   "id": "7788ac45-dfd2-4aca-a8f7-63721cd5d5fd",
   "metadata": {
    "execution": {
     "iopub.execute_input": "2024-03-09T11:09:38.734522Z",
     "iopub.status.busy": "2024-03-09T11:09:38.733511Z",
     "iopub.status.idle": "2024-03-09T11:09:39.425184Z",
     "shell.execute_reply": "2024-03-09T11:09:39.424241Z",
     "shell.execute_reply.started": "2024-03-09T11:09:38.734522Z"
    }
   },
   "outputs": [
    {
     "name": "stdout",
     "output_type": "stream",
     "text": [
      "<RawEDF | aaaaaaaa_s001_t000.edf, 31 x 323840 (1265.0 s), ~76.6 MB, data loaded>\n",
      "ch  name              type  unit        min         Q1     median         Q3        max\n",
      " 0  EEG FP1-REF       EEG   µV      -177.35     -22.58     -18.57     -13.55      91.69\n",
      " 1  EEG FP2-REF       EEG   µV       -90.01     -18.23     -14.22     -10.03     106.41\n",
      " 2  EEG F3-REF        EEG   µV     -1986.48     -23.08     -16.23      -4.35     273.39\n",
      " 3  EEG F4-REF        EEG   µV       -84.99     -21.24     -16.39     -11.04      79.31\n",
      " 4  EEG C3-REF        EEG   µV      -130.50     -19.07     -12.04      -3.68     138.70\n",
      " 5  EEG C4-REF        EEG   µV      -129.83     -18.57     -11.71      -4.18     139.88\n",
      " 6  EEG P3-REF        EEG   µV      -161.28     -32.29     -24.76     -17.06     140.71\n",
      " 7  EEG P4-REF        EEG   µV      -274.05     -25.09     -17.73      -9.37     147.74\n",
      " 8  EEG O1-REF        EEG   µV      -176.34     -26.43     -16.56      -6.52     173.00\n",
      " 9  EEG O2-REF        EEG   µV      -150.41     -20.07     -12.04      -4.18     154.93\n",
      "10  EEG F7-REF        EEG   µV      -587.09     -27.10     -16.23      -3.84     151.25\n",
      "11  EEG F8-REF        EEG   µV      -199.93     -23.75     -14.72      -5.52     188.73\n",
      "12  EEG T3-REF        EEG   µV      -155.43     -27.44     -20.24     -12.88     160.62\n",
      "13  EEG T4-REF        EEG   µV      -167.31     -17.73     -10.37      -3.17     178.52\n",
      "14  EEG T5-REF        EEG   µV      -169.98     -25.09     -16.73      -8.36     168.82\n",
      "15  EEG T6-REF        EEG   µV      -157.44     -23.92     -16.23      -8.53     161.79\n",
      "16  EEG T1-REF        EEG   µV      -178.35     -33.12     -24.42     -15.39     200.44\n",
      "17  EEG T2-REF        EEG   µV      -192.40     -24.42     -15.72      -7.02     238.26\n",
      "18  EEG FZ-REF        EEG   µV       -85.66     -25.26     -21.75     -17.73      61.24\n",
      "19  EEG CZ-REF        EEG   µV      -134.18     -24.76     -18.57     -12.54     112.27\n",
      "20  EEG PZ-REF        EEG   µV      -158.94     -24.76     -17.40     -10.20     135.69\n",
      "21  EEG EKG1-REF      EEG   µV     -1126.00     -42.83     -19.24       9.21    1142.74\n",
      "22  EEG LOC-REF       EEG   µV      -163.63     -23.08     -14.38      -3.51     184.38\n",
      "23  EEG ROC-REF       EEG   µV      -225.87     -30.45     -18.90      -7.36     281.92\n",
      "24  EMG-REF           EEG   µV     -5482.45     -24.26     -15.72      -6.69    5178.95\n",
      "25  EEG A1-REF        EEG   µV      -272.21     -24.42     -15.72      -7.02     349.52\n",
      "26  EEG A2-REF        EEG   µV      -217.33     -28.44     -18.90      -8.86     247.96\n",
      "27  RESP ABDOMEN-REF  EEG   µV      -532.89     -17.95     -16.40     -14.82     183.79\n",
      "28  IBI               EEG   µV    -70280576.19    7681.28  27427450.37  103768488.13  589097014.51\n",
      "29  BURSTS            EEG   µV    -100869.74  199850.66  300048.62  500128.83  796238.91\n",
      "30  SUPPR             EEG   µV    -13802129.27  81001980.81  94126242.49  97676352.16  111093449.46\n"
     ]
    }
   ],
   "source": [
    "sample.describe()"
   ]
  },
  {
   "cell_type": "code",
   "execution_count": 41,
   "id": "5a835938-45b3-4733-affa-4a164a9ab973",
   "metadata": {
    "execution": {
     "iopub.execute_input": "2024-03-09T11:09:57.061042Z",
     "iopub.status.busy": "2024-03-09T11:09:57.060034Z",
     "iopub.status.idle": "2024-03-09T11:09:57.086962Z",
     "shell.execute_reply": "2024-03-09T11:09:57.083980Z",
     "shell.execute_reply.started": "2024-03-09T11:09:57.061042Z"
    }
   },
   "outputs": [
    {
     "data": {
      "text/plain": [
       "['_last_samps',\n",
       " '_first_samps',\n",
       " 'info',\n",
       " 'buffer_size_sec',\n",
       " '_cals',\n",
       " '_raw_extras',\n",
       " '_read_picks',\n",
       " '_read_comp_grade',\n",
       " '_comp',\n",
       " '_filenames',\n",
       " 'orig_format',\n",
       " '_orig_units',\n",
       " '_projectors',\n",
       " '_projector',\n",
       " '_dtype_',\n",
       " '_annotations',\n",
       " '_cropped_samp',\n",
       " '_data',\n",
       " 'preload',\n",
       " '_init_kwargs',\n",
       " '__module__',\n",
       " '__doc__',\n",
       " '__init__',\n",
       " '_read_segment_file',\n",
       " '_extra_attributes',\n",
       " 'apply_gradient_compensation',\n",
       " '_dtype',\n",
       " '_read_segment',\n",
       " '_check_bad_segment',\n",
       " 'load_data',\n",
       " '_preload_data',\n",
       " '_first_time',\n",
       " 'first_samp',\n",
       " 'first_time',\n",
       " 'last_samp',\n",
       " '_last_time',\n",
       " 'time_as_index',\n",
       " '_raw_lengths',\n",
       " 'annotations',\n",
       " 'filenames',\n",
       " 'set_annotations',\n",
       " '__del__',\n",
       " '__enter__',\n",
       " '__exit__',\n",
       " '_parse_get_set_params',\n",
       " '__getitem__',\n",
       " '_getitem',\n",
       " '__setitem__',\n",
       " 'get_data',\n",
       " 'apply_function',\n",
       " 'filter',\n",
       " 'notch_filter',\n",
       " 'resample',\n",
       " 'crop',\n",
       " 'crop_by_annotations',\n",
       " 'save',\n",
       " 'export',\n",
       " '_tmin_tmax_to_start_stop',\n",
       " 'plot',\n",
       " 'ch_names',\n",
       " 'times',\n",
       " 'n_times',\n",
       " '__len__',\n",
       " 'load_bad_channels',\n",
       " 'append',\n",
       " 'close',\n",
       " 'copy',\n",
       " '__repr__',\n",
       " '_repr_html_',\n",
       " 'add_events',\n",
       " '_get_buffer_size',\n",
       " 'compute_psd',\n",
       " 'to_data_frame',\n",
       " 'describe',\n",
       " 'proj',\n",
       " 'add_proj',\n",
       " 'apply_proj',\n",
       " 'del_proj',\n",
       " 'plot_projs_topomap',\n",
       " '_reconstruct_proj',\n",
       " '__dict__',\n",
       " '__weakref__',\n",
       " '__new__',\n",
       " '__hash__',\n",
       " '__str__',\n",
       " '__getattribute__',\n",
       " '__setattr__',\n",
       " '__delattr__',\n",
       " '__lt__',\n",
       " '__le__',\n",
       " '__eq__',\n",
       " '__ne__',\n",
       " '__gt__',\n",
       " '__ge__',\n",
       " '__reduce_ex__',\n",
       " '__reduce__',\n",
       " '__subclasshook__',\n",
       " '__init_subclass__',\n",
       " '__format__',\n",
       " '__sizeof__',\n",
       " '__dir__',\n",
       " '__class__',\n",
       " '__contains__',\n",
       " 'compensation_grade',\n",
       " 'get_channel_types',\n",
       " 'pick_types',\n",
       " 'pick_channels',\n",
       " 'pick',\n",
       " 'reorder_channels',\n",
       " 'drop_channels',\n",
       " '_pick_drop_channels',\n",
       " '_pick_projs',\n",
       " 'add_channels',\n",
       " 'add_reference_channels',\n",
       " 'set_eeg_reference',\n",
       " 'get_montage',\n",
       " 'set_montage',\n",
       " '_get_channel_positions',\n",
       " '_set_channel_positions',\n",
       " 'set_channel_types',\n",
       " 'rename_channels',\n",
       " 'plot_sensors',\n",
       " 'anonymize',\n",
       " 'set_meas_date',\n",
       " 'interpolate_bads',\n",
       " '_handle_tmin_tmax',\n",
       " '_set_times',\n",
       " '_size',\n",
       " 'savgol_filter',\n",
       " 'apply_hilbert',\n",
       " 'plot_psd',\n",
       " 'plot_psd_topo',\n",
       " 'plot_psd_topomap',\n",
       " '_set_legacy_nfft_default']"
      ]
     },
     "execution_count": 41,
     "metadata": {},
     "output_type": "execute_result"
    }
   ],
   "source": [
    "sample.__dir__()"
   ]
  }
 ],
 "metadata": {
  "kernelspec": {
   "display_name": "Python 3 (ipykernel)",
   "language": "python",
   "name": "python3"
  },
  "language_info": {
   "codemirror_mode": {
    "name": "ipython",
    "version": 3
   },
   "file_extension": ".py",
   "mimetype": "text/x-python",
   "name": "python",
   "nbconvert_exporter": "python",
   "pygments_lexer": "ipython3",
   "version": "3.10.9"
  }
 },
 "nbformat": 4,
 "nbformat_minor": 5
}
